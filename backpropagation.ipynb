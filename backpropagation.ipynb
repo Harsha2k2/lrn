{
 "cells": [
  {
   "cell_type": "code",
   "execution_count": 7,
   "id": "e136bbf1-219a-453f-9629-8bdd9732c19e",
   "metadata": {},
   "outputs": [],
   "source": [
    "import math\n",
    "\n",
    "def sigmoid(x):\n",
    "    return 1/(1+math.exp(-x))\n",
    "\n",
    "def sigmoid_derivative(x):\n",
    "    sx = sigmoid(x)\n",
    "    return sx * (1-sx)"
   ]
  },
  {
   "cell_type": "code",
   "execution_count": 9,
   "id": "5ead9234-93a7-4a7d-8f9b-253affda2fea",
   "metadata": {},
   "outputs": [],
   "source": [
    "#inputs\n",
    "x1 = 0.05\n",
    "x2 = 0.10\n",
    "\n",
    "#target ouput\n",
    "target = 0.01\n",
    "\n",
    "#weights i/p -> hidden\n",
    "w1 = 0.15 # x1 -> h1\n",
    "w2 = 0.20 # x2 -> h2\n",
    "w3 = 0.25 # x1 -> h2\n",
    "w4 = 0.30 # x2 -> h2\n",
    "\n",
    "#weights hidden -> o/p\n",
    "w5 = 0.40 # h1 -> o/p\n",
    "w6 = 0.45 # h2 -> o/p\n",
    "\n",
    "#biases\n",
    "b1 = 0.35 # for both hidden neurons\n",
    "b2 = 0.60 # o/p neuron"
   ]
  },
  {
   "cell_type": "code",
   "execution_count": 12,
   "id": "9362d4f2-3656-4651-aa85-a17397366349",
   "metadata": {},
   "outputs": [
    {
     "name": "stdout",
     "output_type": "stream",
     "text": [
      "hidden neuron h1: input = 0.37750, output = 0.59327\n",
      "hidden neuron h2: input = 0.39250, output = 0.59688\n"
     ]
    }
   ],
   "source": [
    "#forward pass hidden layer\n",
    "#hidden layer i/p before activation\n",
    "z_h1 = x1*w1 + x2*w2 + b1\n",
    "z_h2 = x1*w3 + x2*w4 + b1\n",
    "\n",
    "#hidden layer o/p after activation\n",
    "h1 = sigmoid(z_h1)\n",
    "h2 = sigmoid(z_h2)\n",
    "\n",
    "print(f\"hidden neuron h1: input = {z_h1:.5f}, output = {h1:.5f}\")\n",
    "print(f\"hidden neuron h2: input = {z_h2:.5f}, output = {h2:.5f}\")"
   ]
  },
  {
   "cell_type": "code",
   "execution_count": 13,
   "id": "f65e2854-80f7-4128-85b8-b350ad8921b7",
   "metadata": {},
   "outputs": [
    {
     "name": "stdout",
     "output_type": "stream",
     "text": [
      "output neuron: input = 1.10591, output = 0.75137\n"
     ]
    }
   ],
   "source": [
    "#forward pass o/p layer\n",
    "#weighted sum i/p to o/p neuron\n",
    "z_out = h1*w5 + h2*w6 + b2\n",
    "\n",
    "#activated o/p prediction\n",
    "y_hat = sigmoid(z_out)\n",
    "\n",
    "print(f\"output neuron: input = {z_out:.5f}, output = {y_hat:.5f}\")"
   ]
  },
  {
   "cell_type": "code",
   "execution_count": 14,
   "id": "d18a08ed-28ed-438b-a845-87b4d6b36ca9",
   "metadata": {},
   "outputs": [
    {
     "name": "stdout",
     "output_type": "stream",
     "text": [
      "loss: 0.27481\n"
     ]
    }
   ],
   "source": [
    "#mean square error\n",
    "loss = 0.5 * (target - y_hat) ** 2\n",
    "print(f\"loss: {loss:.5f}\")"
   ]
  },
  {
   "cell_type": "code",
   "execution_count": 16,
   "id": "5914a99f-2b96-43a2-923c-9762cee5bcd9",
   "metadata": {},
   "outputs": [
    {
     "name": "stdout",
     "output_type": "stream",
     "text": [
      "dE/dz_out: 0.13850\n"
     ]
    }
   ],
   "source": [
    "#calculating backpropagation gradients\n",
    "\n",
    "#calculate gradient at o/p neuron\n",
    "\n",
    "#dE/dy_hat\n",
    "dE_dy_hat = y_hat - target\n",
    "\n",
    "#dy_hat_dz_out (derivative od sigmoid)\n",
    "dy_hat_dz_out = sigmoid_derivative(z_out)\n",
    "\n",
    "#chain rule: dE/dz_out\n",
    "dE_dz_out = dE_dy_hat* dy_hat_dz_out\n",
    "\n",
    "print(f\"dE/dz_out: {dE_dz_out:.5f}\")"
   ]
  },
  {
   "cell_type": "code",
   "execution_count": 21,
   "id": "dacd48cc-f42b-44a0-8ad6-cdaec4a9a379",
   "metadata": {},
   "outputs": [
    {
     "name": "stdout",
     "output_type": "stream",
     "text": [
      "dE/dw5: 0.08217\n",
      "dE/dw6: 0.08267\n"
     ]
    }
   ],
   "source": [
    "#gradients of loss w.r.t weights from hidden -> o/p layer\n",
    "\n",
    "dE_dw5 = dE_dz_out * h1\n",
    "dE_dw6 = dE_dz_out * h2\n",
    "\n",
    "print(f\"dE/dw5: {dE_dw5:.5f}\")\n",
    "print(f\"dE/dw6: {dE_dw6:.5f}\")"
   ]
  },
  {
   "cell_type": "code",
   "execution_count": 22,
   "id": "d9628ef7-6f07-4705-9d78-1061b3da1104",
   "metadata": {},
   "outputs": [
    {
     "name": "stdout",
     "output_type": "stream",
     "text": [
      "updated w5: 0.35892\n",
      "updated w6: 0.40867\n"
     ]
    }
   ],
   "source": [
    "learning_rate = 0.5\n",
    "w5 = w5 - learning_rate * dE_dw5\n",
    "w6 = w6 - learning_rate * dE_dw6\n",
    "\n",
    "print(f\"updated w5: {w5:.5f}\")\n",
    "print(f\"updated w6: {w6:.5f}\")"
   ]
  },
  {
   "cell_type": "code",
   "execution_count": 23,
   "id": "4b45029c-d104-4c69-8c5f-70fcb1078c45",
   "metadata": {},
   "outputs": [
    {
     "name": "stdout",
     "output_type": "stream",
     "text": [
      "delta_h1: 0.01199\n",
      "delta_h2: 0.01362\n"
     ]
    }
   ],
   "source": [
    "#delta for hidden neurons\n",
    "delta_h1 = dE_dz_out * w5 * sigmoid_derivative(z_h1)\n",
    "delta_h2 = dE_dz_out * w6 * sigmoid_derivative(z_h2)\n",
    "\n",
    "print(f\"delta_h1: {delta_h1:.5f}\")\n",
    "print(f\"delta_h2: {delta_h2:.5f}\")"
   ]
  },
  {
   "cell_type": "code",
   "execution_count": 25,
   "id": "f7290d1c-95ac-4914-8279-a0fba99acac1",
   "metadata": {},
   "outputs": [
    {
     "name": "stdout",
     "output_type": "stream",
     "text": [
      "dE/dw1: 0.00060\n",
      "dE/dw2: 0.00120\n",
      "dE/dw3: 0.00068\n",
      "dE/dw4: 0.00136\n"
     ]
    }
   ],
   "source": [
    "dE_dw1 = delta_h1 * x1\n",
    "dE_dw2 = delta_h1 * x2\n",
    "dE_dw3 = delta_h2 * x1\n",
    "dE_dw4 = delta_h2 * x2\n",
    "\n",
    "print(f\"dE/dw1: {dE_dw1:.5f}\")\n",
    "print(f\"dE/dw2: {dE_dw2:.5f}\")\n",
    "print(f\"dE/dw3: {dE_dw3:.5f}\")\n",
    "print(f\"dE/dw4: {dE_dw4:.5f}\")"
   ]
  },
  {
   "cell_type": "code",
   "execution_count": 26,
   "id": "e52f9f31-4e8a-4c3a-bafa-5d626a2731f8",
   "metadata": {},
   "outputs": [
    {
     "name": "stdout",
     "output_type": "stream",
     "text": [
      "Updated w1: 0.14970\n",
      "Updated w2: 0.19940\n",
      "Updated w3: 0.24966\n",
      "Updated w4: 0.29932\n"
     ]
    }
   ],
   "source": [
    "w1 = w1 - learning_rate * dE_dw1\n",
    "w2 = w2 - learning_rate * dE_dw2\n",
    "w3 = w3 - learning_rate * dE_dw3\n",
    "w4 = w4 - learning_rate * dE_dw4\n",
    "\n",
    "print(f\"Updated w1: {w1:.5f}\")\n",
    "print(f\"Updated w2: {w2:.5f}\")\n",
    "print(f\"Updated w3: {w3:.5f}\")\n",
    "print(f\"Updated w4: {w4:.5f}\")\n"
   ]
  },
  {
   "cell_type": "code",
   "execution_count": 27,
   "id": "adf10571-41af-4684-a2e7-6e42f7a4e174",
   "metadata": {},
   "outputs": [
    {
     "name": "stdout",
     "output_type": "stream",
     "text": [
      "Epoch 10: Loss = 0.11822, Output = 0.49624\n",
      "Epoch 20: Loss = 0.04518, Output = 0.31061\n",
      "Epoch 30: Loss = 0.02329, Output = 0.22584\n",
      "Epoch 40: Loss = 0.01463, Output = 0.18103\n",
      "Epoch 50: Loss = 0.01029, Output = 0.15349\n",
      "Epoch 60: Loss = 0.00778, Output = 0.13474\n",
      "Epoch 70: Loss = 0.00617, Output = 0.12108\n",
      "Epoch 80: Loss = 0.00506, Output = 0.11062\n",
      "Epoch 90: Loss = 0.00426, Output = 0.10232\n",
      "Epoch 100: Loss = 0.00366, Output = 0.09555\n"
     ]
    }
   ],
   "source": [
    "for epoch in range(1, 101):  # 100 iterations\n",
    "    # forward pass\n",
    "    z_h1 = x1 * w1 + x2 * w2 + b1\n",
    "    z_h2 = x1 * w3 + x2 * w4 + b1\n",
    "    h1 = sigmoid(z_h1)\n",
    "    h2 = sigmoid(z_h2)\n",
    "\n",
    "    z_out = h1 * w5 + h2 * w6 + b2\n",
    "    y_hat = sigmoid(z_out)\n",
    "\n",
    "    loss = 0.5 * (target - y_hat) ** 2\n",
    "\n",
    "    dE_dy_hat = y_hat - target\n",
    "    dy_hat_dz_out = sigmoid_derivative(z_out)\n",
    "    dE_dz_out = dE_dy_hat * dy_hat_dz_out\n",
    "\n",
    "    dE_dw5 = dE_dz_out * h1\n",
    "    dE_dw6 = dE_dz_out * h2\n",
    "\n",
    "    # gradients for output bias\n",
    "    dE_db2 = dE_dz_out\n",
    "\n",
    "    # delta for hidden neurons\n",
    "    delta_h1 = dE_dz_out * w5 * sigmoid_derivative(z_h1)\n",
    "    delta_h2 = dE_dz_out * w6 * sigmoid_derivative(z_h2)\n",
    "\n",
    "    # Gradients for input weights\n",
    "    dE_dw1 = delta_h1 * x1\n",
    "    dE_dw2 = delta_h1 * x2\n",
    "    dE_dw3 = delta_h2 * x1\n",
    "    dE_dw4 = delta_h2 * x2\n",
    "\n",
    "    # gradients for hidden bias\n",
    "    dE_db1 = delta_h1 + delta_h2\n",
    "\n",
    "    # Update weights and biases\n",
    "    w1 -= learning_rate * dE_dw1\n",
    "    w2 -= learning_rate * dE_dw2\n",
    "    w3 -= learning_rate * dE_dw3\n",
    "    w4 -= learning_rate * dE_dw4\n",
    "\n",
    "    w5 -= learning_rate * dE_dw5\n",
    "    w6 -= learning_rate * dE_dw6\n",
    "\n",
    "    b1 -= learning_rate * dE_db1\n",
    "    b2 -= learning_rate * dE_db2\n",
    "\n",
    "    if epoch % 10 == 0:\n",
    "        print(f\"Epoch {epoch}: Loss = {loss:.5f}, Output = {y_hat:.5f}\")\n"
   ]
  },
  {
   "cell_type": "code",
   "execution_count": 29,
   "id": "452d384a-58d8-4b9e-bcf1-b502f98f5097",
   "metadata": {},
   "outputs": [],
   "source": [
    "import torch\n",
    "import torch.nn as nn\n",
    "import torch.optim as optim\n",
    "\n",
    "x = torch.tensor([0.05, 0.10], dtype=torch.float32)\n",
    "target = torch.tensor([0.6], dtype=torch.float32)"
   ]
  },
  {
   "cell_type": "code",
   "execution_count": 30,
   "id": "e7144ba9-984f-4968-9a7b-2ee0267c5503",
   "metadata": {},
   "outputs": [],
   "source": [
    "class SimpleNet(nn.Module):\n",
    "    def __init__(self):\n",
    "        super(SimpleNet, self).__init__()\n",
    "        self.hidden = nn.Linear(2, 2)   # input layer to hidden layer (2 inputs → 2 neurons)\n",
    "        self.output = nn.Linear(2, 1)   # hidden layer to output layer (2 neurons → 1 output)\n",
    "        self.sigmoid = nn.Sigmoid()     # sigmoid activation\n",
    "\n",
    "    def forward(self, x):\n",
    "        x = self.sigmoid(self.hidden(x))  # hidden layer + activation\n",
    "        x = self.sigmoid(self.output(x))  # output layer + activation\n",
    "        return x\n",
    "\n",
    "# Instantiate the network\n",
    "net = SimpleNet()\n"
   ]
  },
  {
   "cell_type": "code",
   "execution_count": 31,
   "id": "12c7ea2a-7ed5-4148-98d6-ee019aa6d282",
   "metadata": {},
   "outputs": [
    {
     "name": "stdout",
     "output_type": "stream",
     "text": [
      "Output: 0.39019, Loss: 0.04402\n"
     ]
    }
   ],
   "source": [
    "criterion = nn.MSELoss()\n",
    "optimizer = optim.SGD(net.parameters(), lr=0.5)\n",
    "# zero gradients from previous step\n",
    "optimizer.zero_grad()\n",
    "\n",
    "# forward pass\n",
    "output = net(x)\n",
    "\n",
    "loss = criterion(output, target)\n",
    "\n",
    "# backward pass\n",
    "loss.backward()\n",
    "\n",
    "# update weights\n",
    "optimizer.step()\n",
    "\n",
    "print(f\"Output: {output.item():.5f}, Loss: {loss.item():.5f}\")\n",
    "\n"
   ]
  },
  {
   "cell_type": "code",
   "execution_count": 32,
   "id": "89e2014f-5cb6-4f7e-884b-c967140f754e",
   "metadata": {},
   "outputs": [
    {
     "name": "stdout",
     "output_type": "stream",
     "text": [
      "Epoch 10: Output = 0.53559, Loss = 0.00415\n",
      "Epoch 20: Output = 0.57998, Loss = 0.00040\n",
      "Epoch 30: Output = 0.59354, Loss = 0.00004\n",
      "Epoch 40: Output = 0.59789, Loss = 0.00000\n",
      "Epoch 50: Output = 0.59930, Loss = 0.00000\n",
      "Epoch 60: Output = 0.59977, Loss = 0.00000\n",
      "Epoch 70: Output = 0.59992, Loss = 0.00000\n",
      "Epoch 80: Output = 0.59998, Loss = 0.00000\n",
      "Epoch 90: Output = 0.59999, Loss = 0.00000\n",
      "Epoch 100: Output = 0.60000, Loss = 0.00000\n"
     ]
    }
   ],
   "source": [
    "for epoch in range(1, 101):\n",
    "    optimizer.zero_grad()\n",
    "    output = net(x)\n",
    "    loss = criterion(output, target)\n",
    "    loss.backward()\n",
    "    optimizer.step()\n",
    "\n",
    "    if epoch % 10 == 0:\n",
    "        print(f\"Epoch {epoch}: Output = {output.item():.5f}, Loss = {loss.item():.5f}\")"
   ]
  },
  {
   "cell_type": "code",
   "execution_count": null,
   "id": "0b8e83e7-9bf1-44fe-b299-143ef4682068",
   "metadata": {},
   "outputs": [],
   "source": []
  }
 ],
 "metadata": {
  "kernelspec": {
   "display_name": "PyTorch GPU Env",
   "language": "python",
   "name": "pytorch_env"
  },
  "language_info": {
   "codemirror_mode": {
    "name": "ipython",
    "version": 3
   },
   "file_extension": ".py",
   "mimetype": "text/x-python",
   "name": "python",
   "nbconvert_exporter": "python",
   "pygments_lexer": "ipython3",
   "version": "3.12.3"
  }
 },
 "nbformat": 4,
 "nbformat_minor": 5
}
